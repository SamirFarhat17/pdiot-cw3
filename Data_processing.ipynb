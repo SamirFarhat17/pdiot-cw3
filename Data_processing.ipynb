{
  "nbformat": 4,
  "nbformat_minor": 0,
  "metadata": {
    "kernelspec": {
      "display_name": "Python 3",
      "language": "python",
      "name": "python3"
    },
    "language_info": {
      "codemirror_mode": {
        "name": "ipython",
        "version": 3
      },
      "file_extension": ".py",
      "mimetype": "text/x-python",
      "name": "python",
      "nbconvert_exporter": "python",
      "pygments_lexer": "ipython3",
      "version": "3.7.4"
    },
    "colab": {
      "name": "Data processing.ipynb",
      "provenance": [],
      "collapsed_sections": [],
      "include_colab_link": true
    }
  },
  "cells": [
    {
      "cell_type": "markdown",
      "metadata": {
        "id": "view-in-github",
        "colab_type": "text"
      },
      "source": [
        "<a href=\"https://colab.research.google.com/github/thomson008/pdiot-cw3/blob/main/Data_processing.ipynb\" target=\"_parent\"><img src=\"https://colab.research.google.com/assets/colab-badge.svg\" alt=\"Open In Colab\"/></a>"
      ]
    },
    {
      "cell_type": "code",
      "metadata": {
        "id": "eHPI5pTirx3A",
        "outputId": "e5059310-a66e-4c39-ccf1-c2785783b54c",
        "colab": {
          "base_uri": "https://localhost:8080/",
          "height": 34
        }
      },
      "source": [
        "import os\n",
        "import pandas as pd\n",
        "import numpy as np\n",
        "from sklearn.model_selection import train_test_split\n",
        "from sklearn.preprocessing import RobustScaler, OneHotEncoder\n",
        "from scipy import stats\n",
        "import keras\n",
        "from keras.layers import Conv1D, Dropout, Dense, MaxPooling1D, Flatten\n",
        "from google.colab import drive\n",
        "drive.mount('/content/drive')"
      ],
      "execution_count": 68,
      "outputs": [
        {
          "output_type": "stream",
          "text": [
            "Drive already mounted at /content/drive; to attempt to forcibly remount, call drive.mount(\"/content/drive\", force_remount=True).\n"
          ],
          "name": "stdout"
        }
      ]
    },
    {
      "cell_type": "code",
      "metadata": {
        "id": "QJmZ1updrx3D"
      },
      "source": [
        "path = '/content/drive/My Drive/Colab Notebooks/pdiot-cw3/data'\n",
        "\n",
        "file_list = []\n",
        "sensor_position = 'Chest_Right'\n",
        "\n",
        "for root, dirs, files in os.walk(path):\n",
        "    for file in files:\n",
        "        if ('csv' in file and sensor_position in file):\n",
        "            file_list.append(os.path.join(root, file))\n",
        "            \n",
        "dataframes = []\n",
        "\n",
        "for file in file_list:\n",
        "    with open(file) as f:\n",
        "        info = [next(f).rstrip().split(': ')[1] for x in range(5)]\n",
        "        user_id = info[4]\n",
        "        activity = info[2]\n",
        "        \n",
        "    file_data = pd.read_csv(file, header=5)\n",
        "    if (file_data.size):\n",
        "        dataframes.append(file_data)\n",
        "        file_data.insert(0, 'user_id', user_id)\n",
        "        file_data.insert(1, 'activity', activity)\n",
        "    \n",
        "\n",
        "sensor_data = pd.concat(dataframes, ignore_index=True).drop('seq', axis=1)\n",
        "sensor_data.to_csv('sensor.csv')"
      ],
      "execution_count": 148,
      "outputs": []
    },
    {
      "cell_type": "code",
      "metadata": {
        "id": "MOKgSyE1rx3F",
        "outputId": "d97f0ff9-c67f-4897-f17c-69da417caeaa",
        "colab": {
          "base_uri": "https://localhost:8080/",
          "height": 221
        }
      },
      "source": [
        "subjects = sensor_data.user_id.unique()\n",
        "train_subjects, test_subjects = subjects[: int(0.98*len(subjects))], subjects[int(0.98*len(subjects)):]\n",
        "\n",
        "df_train, df_test = sensor_data[sensor_data.user_id != 's1758009'], sensor_data[sensor_data.user_id == 's1758009']\n",
        "\n",
        "scale_columns = ['accel_x', 'accel_y', 'accel_z']\n",
        "\n",
        "scaler = RobustScaler()\n",
        "\n",
        "scaler = scaler.fit(df_train[scale_columns])\n",
        "\n",
        "df_train.loc[:, scale_columns] = scaler.transform(\n",
        "  df_train.loc[:, scale_columns].to_numpy()\n",
        ")\n",
        "\n",
        "df_test.loc[:, scale_columns] = scaler.transform(\n",
        "  df_test.loc[:, scale_columns].to_numpy()\n",
        ")"
      ],
      "execution_count": 200,
      "outputs": [
        {
          "output_type": "stream",
          "text": [
            "/usr/local/lib/python3.6/dist-packages/pandas/core/indexing.py:1736: SettingWithCopyWarning: \n",
            "A value is trying to be set on a copy of a slice from a DataFrame.\n",
            "Try using .loc[row_indexer,col_indexer] = value instead\n",
            "\n",
            "See the caveats in the documentation: https://pandas.pydata.org/pandas-docs/stable/user_guide/indexing.html#returning-a-view-versus-a-copy\n",
            "  isetter(loc, value[:, i].tolist())\n",
            "/usr/local/lib/python3.6/dist-packages/pandas/core/indexing.py:1736: SettingWithCopyWarning: \n",
            "A value is trying to be set on a copy of a slice from a DataFrame.\n",
            "Try using .loc[row_indexer,col_indexer] = value instead\n",
            "\n",
            "See the caveats in the documentation: https://pandas.pydata.org/pandas-docs/stable/user_guide/indexing.html#returning-a-view-versus-a-copy\n",
            "  isetter(loc, value[:, i].tolist())\n"
          ],
          "name": "stderr"
        }
      ]
    },
    {
      "cell_type": "code",
      "metadata": {
        "id": "dH81IgNCrx3I"
      },
      "source": [
        "def create_dataset(X, y, time_steps=1, step=1):\n",
        "    Xs, ys = [], []\n",
        "    for i in range(0, len(X) - time_steps, step):\n",
        "        v = X.iloc[i:(i + time_steps)].values\n",
        "        labels = y.iloc[i: i + time_steps]\n",
        "        Xs.append(v)\n",
        "        ys.append(stats.mode(labels)[0][0])\n",
        "    return np.array(Xs), np.array(ys).reshape(-1, 1)\n",
        "\n",
        "TIME_STEPS = 36\n",
        "STEP = 10\n",
        "\n",
        "X_train, y_train = create_dataset(\n",
        "    df_train[scale_columns],\n",
        "    df_train.activity,\n",
        "    TIME_STEPS,\n",
        "    STEP\n",
        ")\n",
        "\n",
        "X_test, y_test = create_dataset(\n",
        "    df_test[scale_columns],\n",
        "    df_test.activity,\n",
        "    TIME_STEPS,\n",
        "    STEP\n",
        ")\n",
        "\n",
        "enc = OneHotEncoder(handle_unknown='ignore', sparse=False)\n",
        "\n",
        "enc = enc.fit(y_train)\n",
        "\n",
        "y_train = enc.transform(y_train)\n",
        "y_test = enc.transform(y_test)"
      ],
      "execution_count": 205,
      "outputs": []
    },
    {
      "cell_type": "code",
      "metadata": {
        "id": "Z_1ki4bR8j7R",
        "outputId": "a1672437-d33c-4325-caa0-f6caae65400d",
        "colab": {
          "base_uri": "https://localhost:8080/",
          "height": 374
        }
      },
      "source": [
        "def evaluate_model(trainX, trainy, testX, testy):\n",
        "    verbose, epochs, batch_size = 1, 10, 32\n",
        "    n_timesteps, n_features, n_outputs = trainX.shape[1], trainX.shape[2], trainy.shape[1]\n",
        "    model = keras.Sequential()\n",
        "    model.add(Conv1D(filters=64, kernel_size=3, activation='relu', input_shape=(n_timesteps,n_features)))\n",
        "    model.add(Conv1D(filters=64, kernel_size=3, activation='relu'))\n",
        "    model.add(Dropout(0.5))\n",
        "    model.add(MaxPooling1D(pool_size=2))\n",
        "    model.add(Flatten())\n",
        "    model.add(Dense(100, activation='relu'))\n",
        "    model.add(Dense(n_outputs, activation='softmax'))\n",
        "    model.compile(loss='categorical_crossentropy', optimizer='adam', metrics=['accuracy'])\n",
        "    # fit network\n",
        "    model.fit(trainX, trainy, epochs=epochs, batch_size=batch_size, verbose=verbose)\n",
        "    # evaluate model\n",
        "    _, accuracy = model.evaluate(testX, testy, batch_size=batch_size, verbose=0)\n",
        "    return accuracy\n",
        "\n",
        "evaluate_model(X_train, y_train, X_test, y_test)"
      ],
      "execution_count": 207,
      "outputs": [
        {
          "output_type": "stream",
          "text": [
            "Epoch 1/10\n",
            "212/212 [==============================] - 2s 8ms/step - loss: 1.2784 - accuracy: 0.5590\n",
            "Epoch 2/10\n",
            "212/212 [==============================] - 2s 8ms/step - loss: 0.7764 - accuracy: 0.7102\n",
            "Epoch 3/10\n",
            "212/212 [==============================] - 2s 8ms/step - loss: 0.6230 - accuracy: 0.7768\n",
            "Epoch 4/10\n",
            "212/212 [==============================] - 2s 8ms/step - loss: 0.5232 - accuracy: 0.8102\n",
            "Epoch 5/10\n",
            "212/212 [==============================] - 2s 10ms/step - loss: 0.4707 - accuracy: 0.8290\n",
            "Epoch 6/10\n",
            "212/212 [==============================] - 2s 10ms/step - loss: 0.4156 - accuracy: 0.8483\n",
            "Epoch 7/10\n",
            "212/212 [==============================] - 2s 9ms/step - loss: 0.3903 - accuracy: 0.8575\n",
            "Epoch 8/10\n",
            "212/212 [==============================] - 2s 8ms/step - loss: 0.3611 - accuracy: 0.8675\n",
            "Epoch 9/10\n",
            "212/212 [==============================] - 2s 8ms/step - loss: 0.3254 - accuracy: 0.8836\n",
            "Epoch 10/10\n",
            "212/212 [==============================] - 2s 8ms/step - loss: 0.3130 - accuracy: 0.8881\n"
          ],
          "name": "stdout"
        },
        {
          "output_type": "execute_result",
          "data": {
            "text/plain": [
              "0.6930320262908936"
            ]
          },
          "metadata": {
            "tags": []
          },
          "execution_count": 207
        }
      ]
    },
    {
      "cell_type": "code",
      "metadata": {
        "id": "SF56hHZ8HlcF"
      },
      "source": [
        "|"
      ],
      "execution_count": null,
      "outputs": []
    }
  ]
}