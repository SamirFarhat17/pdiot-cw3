{
 "cells": [
  {
   "cell_type": "code",
   "execution_count": 10,
   "metadata": {},
   "outputs": [],
   "source": [
    "import os\n",
    "import pandas as pd\n",
    "import numpy as np\n",
    "from sklearn.model_selection import train_test_split\n",
    "from sklearn.preprocessing import RobustScaler, OneHotEncoder\n",
    "from scipy import stats\n",
    "import keras"
   ]
  },
  {
   "cell_type": "code",
   "execution_count": 56,
   "metadata": {},
   "outputs": [],
   "source": [
    "path = os.path.join(os.getcwd(), 'data')\n",
    "\n",
    "file_list = []\n",
    "sensor_position = 'Wrist_Right'\n",
    "\n",
    "for root, dirs, files in os.walk(path):\n",
    "    for file in files:\n",
    "        if ('csv' in file and sensor_position in file):\n",
    "            file_list.append(os.path.join(root,file))\n",
    "            \n",
    "dataframes = []\n",
    "\n",
    "for file in file_list:\n",
    "    with open(file) as f:\n",
    "        info = [next(f).rstrip().split(': ')[1] for x in range(5)]\n",
    "        user_id = info[4]\n",
    "        activity = info[2]\n",
    "        \n",
    "    file_data = pd.read_csv(file, header=5)\n",
    "    if (file_data.size):\n",
    "        dataframes.append(file_data)\n",
    "        file_data.insert(0, 'user_id', user_id)\n",
    "        file_data.insert(1, 'activity', activity)\n",
    "    \n",
    "\n",
    "sensor_data = pd.concat(dataframes).drop('seq', axis=1)"
   ]
  },
  {
   "cell_type": "code",
   "execution_count": 57,
   "metadata": {},
   "outputs": [
    {
     "name": "stderr",
     "output_type": "stream",
     "text": [
      "D:\\ProgramData\\Miniconda3\\lib\\site-packages\\pandas\\core\\indexing.py:1736: SettingWithCopyWarning: \n",
      "A value is trying to be set on a copy of a slice from a DataFrame.\n",
      "Try using .loc[row_indexer,col_indexer] = value instead\n",
      "\n",
      "See the caveats in the documentation: https://pandas.pydata.org/pandas-docs/stable/user_guide/indexing.html#returning-a-view-versus-a-copy\n",
      "  isetter(loc, value[:, i].tolist())\n",
      "D:\\ProgramData\\Miniconda3\\lib\\site-packages\\pandas\\core\\indexing.py:1736: SettingWithCopyWarning: \n",
      "A value is trying to be set on a copy of a slice from a DataFrame.\n",
      "Try using .loc[row_indexer,col_indexer] = value instead\n",
      "\n",
      "See the caveats in the documentation: https://pandas.pydata.org/pandas-docs/stable/user_guide/indexing.html#returning-a-view-versus-a-copy\n",
      "  isetter(loc, value[:, i].tolist())\n"
     ]
    }
   ],
   "source": [
    "df_train, df_test = train_test_split(sensor_data, test_size=0.1)\n",
    "\n",
    "scale_columns = ['accel_x', 'accel_y', 'accel_z']\n",
    "\n",
    "scaler = RobustScaler()\n",
    "\n",
    "scaler = scaler.fit(df_train[scale_columns])\n",
    "\n",
    "df_train.loc[:, scale_columns] = scaler.transform(\n",
    "  df_train[scale_columns].to_numpy()\n",
    ")\n",
    "\n",
    "df_test.loc[:, scale_columns] = scaler.transform(\n",
    "  df_test[scale_columns].to_numpy()\n",
    ")"
   ]
  },
  {
   "cell_type": "code",
   "execution_count": 58,
   "metadata": {},
   "outputs": [],
   "source": [
    "def create_dataset(X, y, time_steps=1, step=1):\n",
    "    Xs, ys = [], []\n",
    "    for i in range(0, len(X) - time_steps, step):\n",
    "        v = X.iloc[i:(i + time_steps)].values\n",
    "        labels = y.iloc[i: i + time_steps]\n",
    "        Xs.append(v)\n",
    "        ys.append(stats.mode(labels)[0][0])\n",
    "    return np.array(Xs), np.array(ys).reshape(-1, 1)\n",
    "\n",
    "TIME_STEPS = 200\n",
    "STEP = 40\n",
    "\n",
    "X_train, y_train = create_dataset(\n",
    "    df_train[scale_columns],\n",
    "    df_train.activity,\n",
    "    TIME_STEPS,\n",
    "    STEP\n",
    ")\n",
    "\n",
    "X_test, y_test = create_dataset(\n",
    "    df_test[scale_columns],\n",
    "    df_test.activity,\n",
    "    TIME_STEPS,\n",
    "    STEP\n",
    ")"
   ]
  },
  {
   "cell_type": "code",
   "execution_count": 59,
   "metadata": {},
   "outputs": [],
   "source": [
    "    enc = OneHotEncoder(handle_unknown='ignore', sparse=False)\n",
    "\n",
    "    enc = enc.fit(y_train)\n",
    "\n",
    "    y_train = enc.transform(y_train)\n",
    "    y_test = enc.transform(y_test)"
   ]
  },
  {
   "cell_type": "code",
   "execution_count": 54,
   "metadata": {},
   "outputs": [],
   "source": [
    "model = keras.Sequential()\n",
    "model.add(\n",
    "    keras.layers.Bidirectional(\n",
    "      keras.layers.LSTM(\n",
    "          units=128,\n",
    "          input_shape=[X_train.shape[1], X_train.shape[2]]\n",
    "      )\n",
    "    )\n",
    ")\n",
    "model.add(keras.layers.Dropout(rate=0.5))\n",
    "model.add(keras.layers.Dense(units=128, activation='relu'))\n",
    "model.add(keras.layers.Dense(y_train.shape[1], activation='softmax'))\n",
    "\n",
    "model.compile(\n",
    "  loss='categorical_crossentropy',\n",
    "  optimizer='adam',\n",
    "  metrics=['acc']\n",
    ")"
   ]
  },
  {
   "cell_type": "code",
   "execution_count": null,
   "metadata": {},
   "outputs": [],
   "source": [
    "history = model.fit(\n",
    "    X_train, y_train,\n",
    "    epochs=20,\n",
    "    batch_size=32,\n",
    "    validation_split=0.1,\n",
    "    shuffle=False\n",
    ")"
   ]
  }
 ],
 "metadata": {
  "kernelspec": {
   "display_name": "Python 3",
   "language": "python",
   "name": "python3"
  },
  "language_info": {
   "codemirror_mode": {
    "name": "ipython",
    "version": 3
   },
   "file_extension": ".py",
   "mimetype": "text/x-python",
   "name": "python",
   "nbconvert_exporter": "python",
   "pygments_lexer": "ipython3",
   "version": "3.7.4"
  }
 },
 "nbformat": 4,
 "nbformat_minor": 4
}
